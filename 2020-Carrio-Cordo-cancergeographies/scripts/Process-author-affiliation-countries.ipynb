{
 "cells": [
  {
   "cell_type": "markdown",
   "metadata": {},
   "source": [
    "# Process author affiliation countries\n",
    "\n",
    "Here we want to look at collaborations at the country granularity. A structured XML for each articles comes from running [Cermine](https://github.com/CeON/CERMINE) over the set of articles. Each XML includes author affiliation country codes, so we extract these then process them further.\n",
    "\n",
    "In particular, for our subsequent network visualization we need to create two list of counts:\n",
    "1. counts of how many times pairs of countries appear on an article together\n",
    "2. counts of how many times a country has at least one author on an article\n",
    "\n",
    "We also first look at how many papers have authors from 1, 2, 3, ... countries."
   ]
  },
  {
   "cell_type": "code",
   "execution_count": 1,
   "metadata": {},
   "outputs": [],
   "source": [
    "import os\n",
    "import numpy as np\n",
    "import pandas as pd\n",
    "import xml.etree.ElementTree as ET\n",
    "import matplotlib.pyplot as plt\n",
    "%matplotlib inline\n",
    "plt.style.use('ggplot')"
   ]
  },
  {
   "cell_type": "code",
   "execution_count": 2,
   "metadata": {},
   "outputs": [],
   "source": [
    "dir_name = r\"pdf_processed\"  # dir of articles processed by Cermine\n",
    "articles_dir = os.path.join(base_dir, dir_name)"
   ]
  },
  {
   "cell_type": "code",
   "execution_count": 3,
   "metadata": {},
   "outputs": [],
   "source": [
    "def get_affiliation_countries(xml_root):\n",
    "    \"\"\"\n",
    "    Returns a list of 2-letter country codes that Cermine found in the affiliations. This function\n",
    "    just looks at the Cermine XML and extracts these country codes when they are present.\n",
    "    :param xml_root: root of xml parse\n",
    "    :return: a list of country codes listed in affiliations; list may be empty\n",
    "    \"\"\"\n",
    "    countries = []\n",
    "    for contrib_group in xml_root.iter('contrib-group'):\n",
    "        for contrib_child in contrib_group:\n",
    "            if contrib_child.tag == 'aff':\n",
    "                for aff_child in contrib_child:\n",
    "                    if aff_child.tag == 'country':\n",
    "                        if 'country' in aff_child.attrib:\n",
    "                            country = aff_child.attrib['country']\n",
    "                            countries.append(country)\n",
    "    return countries\n",
    "\n",
    "def remove_extension(filename):\n",
    "    if filename:\n",
    "        return str(filename).rsplit(sep='.', maxsplit=1)[0]\n",
    "    return np.NaN"
   ]
  },
  {
   "cell_type": "code",
   "execution_count": 4,
   "metadata": {},
   "outputs": [],
   "source": [
    "xml_filenames = []\n",
    "country_codes = []\n",
    "\n",
    "for root, dirs, files in os.walk(articles_dir):\n",
    "    # ignore files that aren't Cermine XMLs\n",
    "    files[:] = [f for f in files if os.path.splitext(f)[1] == '.cermxml']\n",
    "    for filename_xml in files:\n",
    "        xml_filenames.append(filename_xml)\n",
    "        filename_raw = remove_extension(filename_xml)\n",
    "        path_to_xml = os.path.join(root,filename_xml)\n",
    "        tree = ET.parse(path_to_xml)\n",
    "        xmlroot = tree.getroot()\n",
    "        # extract author affiliation countries from Cermine XML\n",
    "        countries = get_affiliation_countries(xmlroot)\n",
    "        if countries:\n",
    "            country_codes.append(countries)\n",
    "        else:\n",
    "            country_codes.append(np.NaN)\n",
    "            "
   ]
  },
  {
   "cell_type": "code",
   "execution_count": 5,
   "metadata": {},
   "outputs": [
    {
     "data": {
      "text/html": [
       "<div>\n",
       "<style scoped>\n",
       "    .dataframe tbody tr th:only-of-type {\n",
       "        vertical-align: middle;\n",
       "    }\n",
       "\n",
       "    .dataframe tbody tr th {\n",
       "        vertical-align: top;\n",
       "    }\n",
       "\n",
       "    .dataframe thead th {\n",
       "        text-align: right;\n",
       "    }\n",
       "</style>\n",
       "<table border=\"1\" class=\"dataframe\">\n",
       "  <thead>\n",
       "    <tr style=\"text-align: right;\">\n",
       "      <th></th>\n",
       "      <th>filenames</th>\n",
       "      <th>country_codes</th>\n",
       "    </tr>\n",
       "  </thead>\n",
       "  <tbody>\n",
       "    <tr>\n",
       "      <td>0</td>\n",
       "      <td>10037815.cermxml</td>\n",
       "      <td>[US]</td>\n",
       "    </tr>\n",
       "    <tr>\n",
       "      <td>1</td>\n",
       "      <td>10070331.cermxml</td>\n",
       "      <td>[NL, NL]</td>\n",
       "    </tr>\n",
       "    <tr>\n",
       "      <td>2</td>\n",
       "      <td>10077222.cermxml</td>\n",
       "      <td>[JP]</td>\n",
       "    </tr>\n",
       "    <tr>\n",
       "      <td>3</td>\n",
       "      <td>10077547.cermxml</td>\n",
       "      <td>[CH]</td>\n",
       "    </tr>\n",
       "    <tr>\n",
       "      <td>4</td>\n",
       "      <td>10084322.cermxml</td>\n",
       "      <td>[AU, US]</td>\n",
       "    </tr>\n",
       "  </tbody>\n",
       "</table>\n",
       "</div>"
      ],
      "text/plain": [
       "          filenames country_codes\n",
       "0  10037815.cermxml          [US]\n",
       "1  10070331.cermxml      [NL, NL]\n",
       "2  10077222.cermxml          [JP]\n",
       "3  10077547.cermxml          [CH]\n",
       "4  10084322.cermxml      [AU, US]"
      ]
     },
     "execution_count": 5,
     "metadata": {},
     "output_type": "execute_result"
    }
   ],
   "source": [
    "df = pd.DataFrame({'filenames':xml_filenames, 'country_codes':country_codes})\n",
    "df.head()"
   ]
  },
  {
   "cell_type": "code",
   "execution_count": 6,
   "metadata": {},
   "outputs": [
    {
     "name": "stdout",
     "output_type": "stream",
     "text": [
      "We have 3785 XML files from Cermine of which 3093 contain country codes.\n"
     ]
    }
   ],
   "source": [
    "print(\"We have %s XML files from Cermine of which %s contain country codes.\" %(df.shape[0], \n",
    "                                                                  df['country_codes'].notnull().sum()))"
   ]
  },
  {
   "cell_type": "code",
   "execution_count": 7,
   "metadata": {},
   "outputs": [
    {
     "data": {
      "text/plain": [
       "3093"
      ]
     },
     "execution_count": 7,
     "metadata": {},
     "output_type": "execute_result"
    }
   ],
   "source": [
    "country_codes_not_null = df[df['country_codes'].notnull()]['country_codes'].tolist()\n",
    "# we don't care about same-country collaborations, so make a set of country codes for each article\n",
    "cc_sets = [set(cc_list) for cc_list in country_codes_not_null]\n",
    "len(cc_sets)"
   ]
  },
  {
   "cell_type": "markdown",
   "metadata": {},
   "source": [
    "### Multi-country vs single-country publications\n",
    "We look at how many articles have more than one country involved, out of the ones where we have affiliation countries extracted. Anything with more than 1 country counts as a multi-country collaboration."
   ]
  },
  {
   "cell_type": "code",
   "execution_count": 8,
   "metadata": {},
   "outputs": [
    {
     "data": {
      "text/plain": [
       "1     2045\n",
       "2      687\n",
       "3      223\n",
       "4       72\n",
       "5       28\n",
       "6       20\n",
       "7        6\n",
       "8        5\n",
       "9        2\n",
       "10       2\n",
       "12       2\n",
       "13       1\n",
       "dtype: int64"
      ]
     },
     "execution_count": 8,
     "metadata": {},
     "output_type": "execute_result"
    }
   ],
   "source": [
    "collab_counts = pd.Series((len(cc_set) for cc_set in cc_sets))\n",
    "collab_counts.value_counts().sort_index()"
   ]
  },
  {
   "cell_type": "code",
   "execution_count": 9,
   "metadata": {},
   "outputs": [
    {
     "data": {
      "text/plain": [
       "Text(0, 0.5, 'Number of publications')"
      ]
     },
     "execution_count": 9,
     "metadata": {},
     "output_type": "execute_result"
    },
    {
     "data": {
      "image/png": "[encoded data removed]",
      "text/plain": [
       "<Figure size 432x288 with 1 Axes>"
      ]
     },
     "metadata": {
      "needs_background": "light"
     },
     "output_type": "display_data"
    }
   ],
   "source": [
    "ax = collab_counts.value_counts().sort_index().plot(kind='bar', title='Country collaborations')\n",
    "ax.set_xlabel(\"Number of countries in a publication\")\n",
    "ax.set_ylabel(\"Number of publications\")"
   ]
  },
  {
   "cell_type": "code",
   "execution_count": 10,
   "metadata": {},
   "outputs": [
    {
     "data": {
      "text/plain": [
       "one country           0.66117\n",
       "multiple countries    0.33883\n",
       "dtype: float64"
      ]
     },
     "execution_count": 10,
     "metadata": {},
     "output_type": "execute_result"
    }
   ],
   "source": [
    "collaborations = pd.Series(data=[2045/3093, 1048/3093], index=['one country', 'multiple countries'])\n",
    "collaborations"
   ]
  },
  {
   "cell_type": "markdown",
   "metadata": {},
   "source": [
    "So, in summary:\n",
    "- almost exactly one-third of publications (which have country codes) are a multi-country collaboration\n",
    "- the remaining two-thirds have all authors from a single country"
   ]
  },
  {
   "cell_type": "markdown",
   "metadata": {},
   "source": [
    "### Counts of pairs of countries collaborating\n",
    "\n",
    "We use the tool 'itertools.combinations' to get all pairs from a set of country codes."
   ]
  },
  {
   "cell_type": "code",
   "execution_count": 11,
   "metadata": {},
   "outputs": [],
   "source": [
    "import itertools\n",
    "\n",
    "list_of_all_pairs = []\n",
    "for cc_set in cc_sets:\n",
    "    if len(cc_set) > 1:\n",
    "        list_of_all_pairs.extend(list(itertools.combinations(cc_set, 2)))\n"
   ]
  },
  {
   "cell_type": "code",
   "execution_count": 12,
   "metadata": {},
   "outputs": [
    {
     "data": {
      "text/plain": [
       "0    (AU, US)\n",
       "1    (CN, UK)\n",
       "2    (JP, US)\n",
       "3    (FI, SE)\n",
       "4    (GR, SE)\n",
       "5    (FI, GR)\n",
       "6    (GR, SE)\n",
       "7    (NL, UK)\n",
       "8    (DK, UK)\n",
       "9    (JP, UK)\n",
       "dtype: object"
      ]
     },
     "execution_count": 12,
     "metadata": {},
     "output_type": "execute_result"
    }
   ],
   "source": [
    "# IMPORTANT: we need to sort each item alphabetically so that each pair and 'reverse' pair are the same\n",
    "list_pairs_sorted = [tuple(sorted(cc_pair)) for cc_pair in list_of_all_pairs]\n",
    "pairs_series = pd.Series(list_pairs_sorted)\n",
    "pairs_series[:10]"
   ]
  },
  {
   "cell_type": "code",
   "execution_count": 13,
   "metadata": {},
   "outputs": [
    {
     "name": "stdout",
     "output_type": "stream",
     "text": [
      "We have 468 unique country pairs.\n"
     ]
    },
    {
     "data": {
      "text/plain": [
       "(DE, US)    122\n",
       "(UK, US)     95\n",
       "(CA, US)     79\n",
       "(DE, UK)     64\n",
       "(IT, US)     60\n",
       "(ES, US)     60\n",
       "(NL, US)     58\n",
       "(FR, US)     49\n",
       "(JP, US)     49\n",
       "(DE, NL)     48\n",
       "(SE, US)     43\n",
       "(CH, DE)     42\n",
       "(CN, US)     40\n",
       "(AU, US)     39\n",
       "(CA, UK)     39\n",
       "(NL, UK)     38\n",
       "(DE, ES)     37\n",
       "(CH, US)     36\n",
       "(FR, UK)     35\n",
       "(CA, DE)     35\n",
       "dtype: int64"
      ]
     },
     "execution_count": 13,
     "metadata": {},
     "output_type": "execute_result"
    }
   ],
   "source": [
    "# most common collaborations\n",
    "pair_counts = pairs_series.value_counts()\n",
    "print(\"We have %s unique country pairs.\" %pair_counts.shape[0])\n",
    "pair_counts[:20]"
   ]
  },
  {
   "cell_type": "code",
   "execution_count": 14,
   "metadata": {},
   "outputs": [
    {
     "data": {
      "text/plain": [
       "(LB, US)    1\n",
       "(BE, KR)    1\n",
       "(BR, PR)    1\n",
       "(ES, UY)    1\n",
       "(BR, PL)    1\n",
       "(BE, PL)    1\n",
       "(DK, HK)    1\n",
       "(CH, IR)    1\n",
       "(CO, NL)    1\n",
       "(BR, SG)    1\n",
       "dtype: int64"
      ]
     },
     "execution_count": 14,
     "metadata": {},
     "output_type": "execute_result"
    }
   ],
   "source": [
    "# sample from the bottom of the list\n",
    "pair_counts[-10:]"
   ]
  },
  {
   "cell_type": "code",
   "execution_count": 15,
   "metadata": {},
   "outputs": [
    {
     "data": {
      "text/html": [
       "<div>\n",
       "<style scoped>\n",
       "    .dataframe tbody tr th:only-of-type {\n",
       "        vertical-align: middle;\n",
       "    }\n",
       "\n",
       "    .dataframe tbody tr th {\n",
       "        vertical-align: top;\n",
       "    }\n",
       "\n",
       "    .dataframe thead th {\n",
       "        text-align: right;\n",
       "    }\n",
       "</style>\n",
       "<table border=\"1\" class=\"dataframe\">\n",
       "  <thead>\n",
       "    <tr style=\"text-align: right;\">\n",
       "      <th></th>\n",
       "      <th>source</th>\n",
       "      <th>target</th>\n",
       "      <th>weight</th>\n",
       "    </tr>\n",
       "  </thead>\n",
       "  <tbody>\n",
       "    <tr>\n",
       "      <td>0</td>\n",
       "      <td>DE</td>\n",
       "      <td>US</td>\n",
       "      <td>122</td>\n",
       "    </tr>\n",
       "    <tr>\n",
       "      <td>1</td>\n",
       "      <td>UK</td>\n",
       "      <td>US</td>\n",
       "      <td>95</td>\n",
       "    </tr>\n",
       "    <tr>\n",
       "      <td>2</td>\n",
       "      <td>CA</td>\n",
       "      <td>US</td>\n",
       "      <td>79</td>\n",
       "    </tr>\n",
       "    <tr>\n",
       "      <td>3</td>\n",
       "      <td>DE</td>\n",
       "      <td>UK</td>\n",
       "      <td>64</td>\n",
       "    </tr>\n",
       "    <tr>\n",
       "      <td>4</td>\n",
       "      <td>IT</td>\n",
       "      <td>US</td>\n",
       "      <td>60</td>\n",
       "    </tr>\n",
       "  </tbody>\n",
       "</table>\n",
       "</div>"
      ],
      "text/plain": [
       "  source target  weight\n",
       "0     DE     US     122\n",
       "1     UK     US      95\n",
       "2     CA     US      79\n",
       "3     DE     UK      64\n",
       "4     IT     US      60"
      ]
     },
     "execution_count": 15,
     "metadata": {},
     "output_type": "execute_result"
    }
   ],
   "source": [
    "# re-format and export for making a network graph\n",
    "df_counts = pair_counts.rename_axis('pairs').reset_index(name='weight')\n",
    "df_counts[['source', 'target']] = df_counts['pairs'].apply(pd.Series)\n",
    "df_counts = df_counts.drop(labels='pairs', axis=1)\n",
    "df_counts = df_counts[['source', 'target', 'weight']]\n",
    "df_counts.head()"
   ]
  },
  {
   "cell_type": "code",
   "execution_count": 16,
   "metadata": {},
   "outputs": [],
   "source": [
    "# export to file\n",
    "df_counts.to_csv('country_collaboration_counts.tsv', sep='\\t', index=False, encoding='utf-8')"
   ]
  },
  {
   "cell_type": "markdown",
   "metadata": {},
   "source": [
    "### Counts of all countries\n",
    "\n",
    "Here we start from the full list of countries (i.e. not just multi-country papers) and build a frequency dict of how any times a country appears at least once on a publication."
   ]
  },
  {
   "cell_type": "code",
   "execution_count": 17,
   "metadata": {},
   "outputs": [
    {
     "data": {
      "text/plain": [
       "[{'US'},\n",
       " {'NL'},\n",
       " {'JP'},\n",
       " {'CH'},\n",
       " {'AU', 'US'},\n",
       " {'JP'},\n",
       " {'US'},\n",
       " {'JP'},\n",
       " {'UK'},\n",
       " {'FI'}]"
      ]
     },
     "execution_count": 17,
     "metadata": {},
     "output_type": "execute_result"
    }
   ],
   "source": [
    "cc_sets[:10]"
   ]
  },
  {
   "cell_type": "code",
   "execution_count": 18,
   "metadata": {},
   "outputs": [
    {
     "data": {
      "text/plain": [
       "67"
      ]
     },
     "execution_count": 18,
     "metadata": {},
     "output_type": "execute_result"
    }
   ],
   "source": [
    "dict_counts = {}\n",
    "for cc_set in cc_sets:\n",
    "    for cc in cc_set:\n",
    "        if cc not in dict_counts:\n",
    "            dict_counts[cc] = 0\n",
    "        dict_counts[cc] += 1\n",
    "\n",
    "# length is the number of unique countries\n",
    "len(dict_counts)"
   ]
  },
  {
   "cell_type": "code",
   "execution_count": 19,
   "metadata": {},
   "outputs": [
    {
     "data": {
      "text/html": [
       "<div>\n",
       "<style scoped>\n",
       "    .dataframe tbody tr th:only-of-type {\n",
       "        vertical-align: middle;\n",
       "    }\n",
       "\n",
       "    .dataframe tbody tr th {\n",
       "        vertical-align: top;\n",
       "    }\n",
       "\n",
       "    .dataframe thead th {\n",
       "        text-align: right;\n",
       "    }\n",
       "</style>\n",
       "<table border=\"1\" class=\"dataframe\">\n",
       "  <thead>\n",
       "    <tr style=\"text-align: right;\">\n",
       "      <th></th>\n",
       "      <th>id</th>\n",
       "      <th>count</th>\n",
       "    </tr>\n",
       "  </thead>\n",
       "  <tbody>\n",
       "    <tr>\n",
       "      <td>0</td>\n",
       "      <td>US</td>\n",
       "      <td>1215</td>\n",
       "    </tr>\n",
       "    <tr>\n",
       "      <td>13</td>\n",
       "      <td>DE</td>\n",
       "      <td>523</td>\n",
       "    </tr>\n",
       "    <tr>\n",
       "      <td>5</td>\n",
       "      <td>UK</td>\n",
       "      <td>375</td>\n",
       "    </tr>\n",
       "    <tr>\n",
       "      <td>1</td>\n",
       "      <td>NL</td>\n",
       "      <td>265</td>\n",
       "    </tr>\n",
       "    <tr>\n",
       "      <td>2</td>\n",
       "      <td>JP</td>\n",
       "      <td>243</td>\n",
       "    </tr>\n",
       "    <tr>\n",
       "      <td>8</td>\n",
       "      <td>FR</td>\n",
       "      <td>211</td>\n",
       "    </tr>\n",
       "    <tr>\n",
       "      <td>18</td>\n",
       "      <td>CA</td>\n",
       "      <td>204</td>\n",
       "    </tr>\n",
       "    <tr>\n",
       "      <td>21</td>\n",
       "      <td>IT</td>\n",
       "      <td>177</td>\n",
       "    </tr>\n",
       "    <tr>\n",
       "      <td>10</td>\n",
       "      <td>SE</td>\n",
       "      <td>161</td>\n",
       "    </tr>\n",
       "    <tr>\n",
       "      <td>6</td>\n",
       "      <td>FI</td>\n",
       "      <td>156</td>\n",
       "    </tr>\n",
       "  </tbody>\n",
       "</table>\n",
       "</div>"
      ],
      "text/plain": [
       "    id  count\n",
       "0   US   1215\n",
       "13  DE    523\n",
       "5   UK    375\n",
       "1   NL    265\n",
       "2   JP    243\n",
       "8   FR    211\n",
       "18  CA    204\n",
       "21  IT    177\n",
       "10  SE    161\n",
       "6   FI    156"
      ]
     },
     "execution_count": 19,
     "metadata": {},
     "output_type": "execute_result"
    }
   ],
   "source": [
    "country_counts = pd.DataFrame(list(dict_counts.items()), columns=['id', 'count'])\n",
    "country_counts = country_counts.sort_values(by='count', ascending=False)\n",
    "# print the top ten most common\n",
    "country_counts.head(n=10)"
   ]
  },
  {
   "cell_type": "code",
   "execution_count": 20,
   "metadata": {},
   "outputs": [
    {
     "name": "stdout",
     "output_type": "stream",
     "text": [
      "We have info for 252 countries.\n"
     ]
    },
    {
     "data": {
      "text/html": [
       "<div>\n",
       "<style scoped>\n",
       "    .dataframe tbody tr th:only-of-type {\n",
       "        vertical-align: middle;\n",
       "    }\n",
       "\n",
       "    .dataframe tbody tr th {\n",
       "        vertical-align: top;\n",
       "    }\n",
       "\n",
       "    .dataframe thead th {\n",
       "        text-align: right;\n",
       "    }\n",
       "</style>\n",
       "<table border=\"1\" class=\"dataframe\">\n",
       "  <thead>\n",
       "    <tr style=\"text-align: right;\">\n",
       "      <th></th>\n",
       "      <th>ISO</th>\n",
       "      <th>ISO3</th>\n",
       "      <th>ISO-Numeric</th>\n",
       "      <th>fips</th>\n",
       "      <th>Country</th>\n",
       "      <th>Capital</th>\n",
       "      <th>Area(in sq km)</th>\n",
       "      <th>Population</th>\n",
       "      <th>Continent</th>\n",
       "      <th>tld</th>\n",
       "      <th>CurrencyCode</th>\n",
       "      <th>CurrencyName</th>\n",
       "      <th>Phone</th>\n",
       "      <th>Postal Code Format</th>\n",
       "      <th>Postal Code Regex</th>\n",
       "      <th>Languages</th>\n",
       "      <th>geonameid</th>\n",
       "      <th>neighbours</th>\n",
       "      <th>EquivalentFipsCode</th>\n",
       "    </tr>\n",
       "  </thead>\n",
       "  <tbody>\n",
       "    <tr>\n",
       "      <td>0</td>\n",
       "      <td>AD</td>\n",
       "      <td>AND</td>\n",
       "      <td>20</td>\n",
       "      <td>AN</td>\n",
       "      <td>Andorra</td>\n",
       "      <td>Andorra la Vella</td>\n",
       "      <td>468.0</td>\n",
       "      <td>84000</td>\n",
       "      <td>EU</td>\n",
       "      <td>.ad</td>\n",
       "      <td>EUR</td>\n",
       "      <td>Euro</td>\n",
       "      <td>376</td>\n",
       "      <td>AD###</td>\n",
       "      <td>^(?:AD)*(\\d{3})$</td>\n",
       "      <td>ca</td>\n",
       "      <td>3041565</td>\n",
       "      <td>ES,FR</td>\n",
       "      <td>NaN</td>\n",
       "    </tr>\n",
       "    <tr>\n",
       "      <td>1</td>\n",
       "      <td>AE</td>\n",
       "      <td>ARE</td>\n",
       "      <td>784</td>\n",
       "      <td>AE</td>\n",
       "      <td>United Arab Emirates</td>\n",
       "      <td>Abu Dhabi</td>\n",
       "      <td>82880.0</td>\n",
       "      <td>4975593</td>\n",
       "      <td>AS</td>\n",
       "      <td>.ae</td>\n",
       "      <td>AED</td>\n",
       "      <td>Dirham</td>\n",
       "      <td>971</td>\n",
       "      <td>NaN</td>\n",
       "      <td>NaN</td>\n",
       "      <td>ar-AE,fa,en,hi,ur</td>\n",
       "      <td>290557</td>\n",
       "      <td>SA,OM</td>\n",
       "      <td>NaN</td>\n",
       "    </tr>\n",
       "    <tr>\n",
       "      <td>2</td>\n",
       "      <td>AF</td>\n",
       "      <td>AFG</td>\n",
       "      <td>4</td>\n",
       "      <td>AF</td>\n",
       "      <td>Afghanistan</td>\n",
       "      <td>Kabul</td>\n",
       "      <td>647500.0</td>\n",
       "      <td>29121286</td>\n",
       "      <td>AS</td>\n",
       "      <td>.af</td>\n",
       "      <td>AFN</td>\n",
       "      <td>Afghani</td>\n",
       "      <td>93</td>\n",
       "      <td>NaN</td>\n",
       "      <td>NaN</td>\n",
       "      <td>fa-AF,ps,uz-AF,tk</td>\n",
       "      <td>1149361</td>\n",
       "      <td>TM,CN,IR,TJ,PK,UZ</td>\n",
       "      <td>NaN</td>\n",
       "    </tr>\n",
       "    <tr>\n",
       "      <td>3</td>\n",
       "      <td>AG</td>\n",
       "      <td>ATG</td>\n",
       "      <td>28</td>\n",
       "      <td>AC</td>\n",
       "      <td>Antigua and Barbuda</td>\n",
       "      <td>St. John's</td>\n",
       "      <td>443.0</td>\n",
       "      <td>86754</td>\n",
       "      <td>NA</td>\n",
       "      <td>.ag</td>\n",
       "      <td>XCD</td>\n",
       "      <td>Dollar</td>\n",
       "      <td>+1-268</td>\n",
       "      <td>NaN</td>\n",
       "      <td>NaN</td>\n",
       "      <td>en-AG</td>\n",
       "      <td>3576396</td>\n",
       "      <td>NaN</td>\n",
       "      <td>NaN</td>\n",
       "    </tr>\n",
       "    <tr>\n",
       "      <td>4</td>\n",
       "      <td>AI</td>\n",
       "      <td>AIA</td>\n",
       "      <td>660</td>\n",
       "      <td>AV</td>\n",
       "      <td>Anguilla</td>\n",
       "      <td>The Valley</td>\n",
       "      <td>102.0</td>\n",
       "      <td>13254</td>\n",
       "      <td>NA</td>\n",
       "      <td>.ai</td>\n",
       "      <td>XCD</td>\n",
       "      <td>Dollar</td>\n",
       "      <td>+1-264</td>\n",
       "      <td>NaN</td>\n",
       "      <td>NaN</td>\n",
       "      <td>en-AI</td>\n",
       "      <td>3573511</td>\n",
       "      <td>NaN</td>\n",
       "      <td>NaN</td>\n",
       "    </tr>\n",
       "  </tbody>\n",
       "</table>\n",
       "</div>"
      ],
      "text/plain": [
       "  ISO ISO3  ISO-Numeric fips               Country           Capital  \\\n",
       "0  AD  AND           20   AN               Andorra  Andorra la Vella   \n",
       "1  AE  ARE          784   AE  United Arab Emirates         Abu Dhabi   \n",
       "2  AF  AFG            4   AF           Afghanistan             Kabul   \n",
       "3  AG  ATG           28   AC   Antigua and Barbuda        St. John's   \n",
       "4  AI  AIA          660   AV              Anguilla        The Valley   \n",
       "\n",
       "   Area(in sq km)  Population Continent  tld CurrencyCode CurrencyName  \\\n",
       "0           468.0       84000        EU  .ad          EUR         Euro   \n",
       "1         82880.0     4975593        AS  .ae          AED       Dirham   \n",
       "2        647500.0    29121286        AS  .af          AFN      Afghani   \n",
       "3           443.0       86754        NA  .ag          XCD       Dollar   \n",
       "4           102.0       13254        NA  .ai          XCD       Dollar   \n",
       "\n",
       "    Phone Postal Code Format Postal Code Regex          Languages  geonameid  \\\n",
       "0     376              AD###  ^(?:AD)*(\\d{3})$                 ca    3041565   \n",
       "1     971                NaN               NaN  ar-AE,fa,en,hi,ur     290557   \n",
       "2      93                NaN               NaN  fa-AF,ps,uz-AF,tk    1149361   \n",
       "3  +1-268                NaN               NaN              en-AG    3576396   \n",
       "4  +1-264                NaN               NaN              en-AI    3573511   \n",
       "\n",
       "          neighbours EquivalentFipsCode  \n",
       "0              ES,FR                NaN  \n",
       "1              SA,OM                NaN  \n",
       "2  TM,CN,IR,TJ,PK,UZ                NaN  \n",
       "3                NaN                NaN  \n",
       "4                NaN                NaN  "
      ]
     },
     "execution_count": 20,
     "metadata": {},
     "output_type": "execute_result"
    }
   ],
   "source": [
    "# add continent info for use in the network graph: get info from GeoNames country file\n",
    "df_countries = pd.read_csv('countryInfo_20180718_clean.txt', sep='\\t', quotechar='\"', \n",
    "                           encoding='utf-8', na_values=['','NaN'], keep_default_na=False)\n",
    "print(\"We have info for %s countries.\" %df_countries.shape[0])\n",
    "df_countries.head()"
   ]
  },
  {
   "cell_type": "code",
   "execution_count": 21,
   "metadata": {},
   "outputs": [
    {
     "data": {
      "text/plain": [
       "AF    58\n",
       "EU    54\n",
       "AS    51\n",
       "NA    42\n",
       "OC    28\n",
       "SA    14\n",
       "AN     5\n",
       "Name: Continent, dtype: int64"
      ]
     },
     "execution_count": 21,
     "metadata": {},
     "output_type": "execute_result"
    }
   ],
   "source": [
    "df_countries['Continent'].value_counts()"
   ]
  },
  {
   "cell_type": "code",
   "execution_count": 22,
   "metadata": {},
   "outputs": [
    {
     "name": "stdout",
     "output_type": "stream",
     "text": [
      "UK\n"
     ]
    }
   ],
   "source": [
    "# cross-check the lists of country codes\n",
    "ccs_table = country_counts['id'].tolist()\n",
    "ccs_geonames = df_countries['ISO'].tolist()\n",
    "# which country codes from our counts table don't appear exactly as is in the geonames data?\n",
    "for cc in ccs_table:\n",
    "    if cc not in ccs_geonames:\n",
    "        print(cc)\n",
    "        "
   ]
  },
  {
   "cell_type": "code",
   "execution_count": 23,
   "metadata": {},
   "outputs": [],
   "source": [
    "# create our mapping of country codes to continents\n",
    "cc_to_continent = {}\n",
    "for index, row in df_countries.iterrows():\n",
    "    cc_to_continent[row['ISO']] = row['Continent']\n",
    "    \n",
    "# manually add the UK\n",
    "cc_to_continent['UK'] = 'EU'"
   ]
  },
  {
   "cell_type": "code",
   "execution_count": 24,
   "metadata": {},
   "outputs": [
    {
     "data": {
      "text/plain": [
       "EU    32\n",
       "AS    16\n",
       "AF     7\n",
       "SA     6\n",
       "NA     4\n",
       "OC     2\n",
       "Name: continent_code, dtype: int64"
      ]
     },
     "execution_count": 24,
     "metadata": {},
     "output_type": "execute_result"
    }
   ],
   "source": [
    "# add continent info (codes) to our country counts data\n",
    "def get_continent(countrycode_string):\n",
    "    if str(countrycode_string) == 'nan':\n",
    "        return np.NaN\n",
    "    return cc_to_continent[countrycode_string]\n",
    "\n",
    "country_counts['continent_code'] = country_counts['id'].apply(get_continent)\n",
    "country_counts['continent_code'].value_counts()"
   ]
  },
  {
   "cell_type": "code",
   "execution_count": 25,
   "metadata": {},
   "outputs": [
    {
     "data": {
      "text/plain": [
       "Europe           32\n",
       "Asia             16\n",
       "Africa            7\n",
       "South America     6\n",
       "North America     4\n",
       "Oceania           2\n",
       "Name: continent, dtype: int64"
      ]
     },
     "execution_count": 25,
     "metadata": {},
     "output_type": "execute_result"
    }
   ],
   "source": [
    "# add continent names to our country counts data\n",
    "def get_continent_name(continent_code):\n",
    "    if continent_code == 'EU':\n",
    "        return 'Europe'\n",
    "    if continent_code == 'AS':\n",
    "        return 'Asia'\n",
    "    if continent_code == 'AF':\n",
    "        return 'Africa'\n",
    "    if continent_code == 'SA':\n",
    "        return 'South America'\n",
    "    if continent_code == 'NA':\n",
    "        return 'North America'\n",
    "    if continent_code == 'OC':\n",
    "        return 'Oceania'\n",
    "\n",
    "country_counts['continent'] = country_counts['continent_code'].apply(get_continent_name)\n",
    "country_counts['continent'].value_counts()"
   ]
  },
  {
   "cell_type": "code",
   "execution_count": 26,
   "metadata": {},
   "outputs": [],
   "source": [
    "# export to file\n",
    "country_counts.to_csv('country_total_counts_with_continent.tsv', sep='\\t', index=False, encoding='utf-8')"
   ]
  },
  {
   "cell_type": "code",
   "execution_count": null,
   "metadata": {},
   "outputs": [],
   "source": []
  }
 ],
 "metadata": {
  "kernelspec": {
   "display_name": "Python 3",
   "language": "python",
   "name": "python3"
  },
  "language_info": {
   "codemirror_mode": {
    "name": "ipython",
    "version": 3
   },
   "file_extension": ".py",
   "mimetype": "text/x-python",
   "name": "python",
   "nbconvert_exporter": "python",
   "pygments_lexer": "ipython3",
   "version": "3.6.9"
  }
 },
 "nbformat": 4,
 "nbformat_minor": 2
}
